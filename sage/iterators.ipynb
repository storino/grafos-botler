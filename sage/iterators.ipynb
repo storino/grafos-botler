{
 "cells": [
  {
   "cell_type": "code",
   "execution_count": 19,
   "metadata": {},
   "outputs": [],
   "source": [
    "class VertexConfigurations:   \n",
    "    \n",
    "    def __init__(self,degrees):\n",
    "        self.degrees = degrees\n",
    "    \n",
    "    def __iter__(self):\n",
    "        canonical = [0,1,1,2,2,3,3,4,4]\n",
    "        self.a = []\n",
    "        for d in self.degrees:\n",
    "            self.a.append(canonical[:d])\n",
    "        return self\n",
    "\n",
    "    def __next__(self):\n",
    "        x = self.a\n",
    "        return x\n",
    "    \n",
    "class ListIterator:   \n",
    "    \n",
    "    def __init__(self,canonical,k):\n",
    "        self.canonical = canonical\n",
    "        self.k = k\n",
    "        self.subIterator = iter(Subsets(self.canonical,self.k))\n",
    "    \n",
    "    def __iter__(self):\n",
    "        return self\n",
    "\n",
    "    def __next__(self):\n",
    "        x = next(self.subIterator)\n",
    "        return x\n",
    "\n"
   ]
  },
  {
   "cell_type": "code",
   "execution_count": 20,
   "metadata": {},
   "outputs": [
    {
     "data": {
      "text/plain": [
       "{0, 1, 2}"
      ]
     },
     "execution_count": 20,
     "metadata": {},
     "output_type": "execute_result"
    }
   ],
   "source": [
    "myClass = ListIterator([0,1,1,2,2,3,3,4,4],3)\n",
    "next(myClass)"
   ]
  }
 ],
 "metadata": {
  "kernelspec": {
   "display_name": "SageMath 9.4",
   "language": "sage",
   "name": "sagemath"
  },
  "language_info": {
   "codemirror_mode": {
    "name": "ipython",
    "version": 3
   },
   "file_extension": ".py",
   "mimetype": "text/x-python",
   "name": "python",
   "nbconvert_exporter": "python",
   "pygments_lexer": "ipython3",
   "version": "3.9.5"
  }
 },
 "nbformat": 4,
 "nbformat_minor": 4
}
