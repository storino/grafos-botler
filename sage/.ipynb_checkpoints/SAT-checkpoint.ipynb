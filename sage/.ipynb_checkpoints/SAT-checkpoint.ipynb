{
 "cells": [
  {
   "cell_type": "code",
   "execution_count": 1,
   "metadata": {},
   "outputs": [],
   "source": [
    "sage: from sage.sat.solvers.dimacs import DIMACS\n",
    "load(\"arranging.sage\")"
   ]
  },
  {
   "cell_type": "code",
   "execution_count": 19,
   "metadata": {},
   "outputs": [],
   "source": [
    "import os\n",
    "# path=\"./lingeling/lingeling \"\n",
    "# name=\"PM_IheA@GUAo\"\n",
    "# output=\" |grep 'v ' > PM_IheA@GUAo.output\"\n",
    "# command=path+name+output\n",
    "# print(command)\n",
    "# os.system(command)\n",
    "# o=open(\"PM_IheA@GUAo.output\")\n",
    "# for i in o:\n",
    "#     print(i)\n",
    "\n",
    "def lingeling(name):\n",
    "    path=\"./lingeling/lingeling \"\n",
    "    output=\" |grep 'v ' > \" + name + \".output\"\n",
    "    command=path+name+output\n",
    "    os.system(command)\n",
    "    o=open(name+\".output\")\n",
    "    for i in o:\n",
    "        return i.split(\" \")[1:-1]"
   ]
  },
  {
   "cell_type": "code",
   "execution_count": 20,
   "metadata": {},
   "outputs": [
    {
     "data": {
      "text/plain": [
       "['-1',\n",
       " '-2',\n",
       " '3',\n",
       " '-4',\n",
       " '5',\n",
       " '-6',\n",
       " '7',\n",
       " '-8',\n",
       " '9',\n",
       " '10',\n",
       " '-11',\n",
       " '-12',\n",
       " '-13',\n",
       " '-14',\n",
       " '-15']"
      ]
     },
     "execution_count": 20,
     "metadata": {},
     "output_type": "execute_result"
    }
   ],
   "source": [
    "lingeling(\"PM_IheA@GUAo\")"
   ]
  },
  {
   "cell_type": "code",
   "execution_count": 40,
   "metadata": {},
   "outputs": [
    {
     "name": "stdout",
     "output_type": "stream",
     "text": [
      "cmd /c /home/fbotler/google-drive/Pesquisa/Moreira-Mota/Repeated patterns/sage/lingeling/lingeling PM_IheA@GUAo |grep \"v \" > PM_IheA@GUAo.output\n"
     ]
    }
   ],
   "source": [
    "import os\n",
    "path=\"cmd /c /home/fbotler/google-drive/Pesquisa/Moreira-Mota/Repeated patterns/sage/lingeling/lingeling \"\n",
    "name=\"PM_IheA@GUAo\"\n",
    "output=\"\"\" |grep \"v \" > PM_IheA@GUAo.output\"\"\"\n",
    "command=path+name+output\n",
    "print(command)\n",
    "os.system(command)\n",
    "o=open(\"PM_IheA@GUAo.output\")\n",
    "for i in o:\n",
    "    print(i)"
   ]
  },
  {
   "cell_type": "markdown",
   "metadata": {},
   "source": [
    "Qual é o formato do arquivo que a gente quer?\n",
    "0) estamos trabalhando com fnc, i.e., C1 and C2 and C3 ... Ck\n",
    "1) no nosso arquivo, cada linha é uma cláusula\n",
    "2) cada claúsula consiste de \"ou\"'s de variáveis: (x1 or x2 or ... or xr)\n",
    "3) as variáveis são binárias, e podem assumir os valores {0,1}\n",
    "4) o nomes das variáveis são os números inteiros: 1, 2, ..., n\n",
    "5) a negação é \"-\"\n",
    "6) para finalizar uma cláusula, colocamos 0 no final (em particular, 0 não pode ser usado como nome de variável)\n",
    "ex: a cláusula (x_1 ou x_3 ou x_20) será escrita como\n",
    "1 3 20 0"
   ]
  },
  {
   "cell_type": "code",
   "execution_count": 24,
   "metadata": {},
   "outputs": [],
   "source": [
    "def edge_to_string(e):\n",
    "    u,v,l=e\n",
    "    return str(u)+\"_\"+str(v)\n",
    "\n",
    "def edge_vertex_to_string(e,z):\n",
    "    u,v,l=e\n",
    "    return str(u)+\"_\"+str(v)+\"_\"+str(z)\n",
    "\n",
    "def at_least_k(variables,k,file):\n",
    "    n=len(variables)\n",
    "    for S in Combinations(variables,n-k+1):\n",
    "        line=\"\"\n",
    "        for x in S:\n",
    "            line+=\" \"+str(x)\n",
    "        line+=\" 0\\n\"\n",
    "        file.write(line)\n",
    "    return binomial(n,n-k+1)\n",
    "    \n",
    "def at_most_k(variables,k,file):\n",
    "    n=len(variables)\n",
    "    if k<n:\n",
    "        for S in Combinations(variables,k+1):\n",
    "            line=\"\"\n",
    "            for x in S:\n",
    "                line+=\" -\"+str(x)\n",
    "            line+=\" 0\\n\"\n",
    "            file.write(line)\n",
    "    return binomial(n,k+1)\n",
    "            \n",
    "def different_from_1(variables,file):\n",
    "    n=len(variables)\n",
    "    for u in variables:\n",
    "        line=\"-\"+str(u)\n",
    "        for v in variables:\n",
    "            if v!=u:\n",
    "                line+=\" \"+str(v)\n",
    "        line+=\" 0\\n\"\n",
    "        file.write(line)\n",
    "    return n\n",
    "\n",
    "def less_or_equal(x,y,file):\n",
    "    line=\"-\"+str(x)+\" \"+str(y)+\" 0\\n\"\n",
    "    file.write(line)\n",
    "    return 1"
   ]
  },
  {
   "cell_type": "code",
   "execution_count": 2,
   "metadata": {},
   "outputs": [
    {
     "name": "stdout",
     "output_type": "stream",
     "text": [
      "test\n"
     ]
    }
   ],
   "source": [
    "path=open(\"test\",'w')\n",
    "at_least_k([6,10,9,77,11],2,path)\n",
    "print(\"test\")"
   ]
  },
  {
   "cell_type": "code",
   "execution_count": 26,
   "metadata": {},
   "outputs": [],
   "source": [
    "# Exemplo, emparelhamento perfeito\n",
    "def has_perfect_matching(G):\n",
    "    \n",
    "    temp=open(\"temp\",'w')\n",
    "\n",
    "    index=1\n",
    "    dic={}\n",
    "    inverse={}\n",
    "    for e in G.edges():\n",
    "        dic[edge_to_string(e)]=index\n",
    "        inverse[index]=e\n",
    "        index+=1\n",
    "    print(dic)\n",
    "    clause_count=0\n",
    "\n",
    "    for u in G.vertices():\n",
    "        variables=[]\n",
    "        for e in G.edges_incident(u):\n",
    "            variables.append(dic[edge_to_string(e)])\n",
    "        clause_count+=at_least_k(variables,1,temp)\n",
    "        clause_count+=at_most_k(variables,1,temp)\n",
    "    \n",
    "    temp.close()        \n",
    "    path=\"PM_\"+G.graph6_string()\n",
    "    o=open(path,'w')\n",
    "    o.write(\"p cnf \"+str(len(dic))+\" \"+str(clause_count)+\"\\n\")\n",
    "    print(\"number of clauses: \" + str(clause_count))\n",
    "    temp=open(\"temp\")\n",
    "    for line in temp:\n",
    "        o.write(line)\n",
    "    o.close()\n",
    "    \n",
    "    sol=lingeling(path)\n",
    "    result=[]\n",
    "    for var in sol:\n",
    "        if int(var) > 0:\n",
    "            result.append(inverse[int(var)])\n",
    "    return result\n",
    "\n",
    "##TODO RETORNAR FALSO SE FOR INSOLÚVEL!"
   ]
  },
  {
   "cell_type": "code",
   "execution_count": 27,
   "metadata": {
    "scrolled": false
   },
   "outputs": [
    {
     "data": {
      "image/png": "[encoded data removed]",
      "text/plain": [
       "Graphics object consisting of 26 graphics primitives"
      ]
     },
     "metadata": {},
     "output_type": "display_data"
    },
    {
     "name": "stdout",
     "output_type": "stream",
     "text": [
      "{'0_1': 1, '0_4': 2, '0_5': 3, '1_2': 4, '1_6': 5, '2_3': 6, '2_7': 7, '3_4': 8, '3_8': 9, '4_9': 10, '5_7': 11, '5_8': 12, '6_8': 13, '6_9': 14, '7_9': 15}\n",
      "number of clauses: 40\n"
     ]
    },
    {
     "data": {
      "text/plain": [
       "[(0, 5, None), (1, 6, None), (2, 7, None), (3, 8, None), (4, 9, None)]"
      ]
     },
     "execution_count": 27,
     "metadata": {},
     "output_type": "execute_result"
    }
   ],
   "source": [
    "G=graphs.PetersenGraph()\n",
    "G.show()\n",
    "has_perfect_matching(G)\n"
   ]
  },
  {
   "cell_type": "code",
   "execution_count": 42,
   "metadata": {},
   "outputs": [],
   "source": [
    "def SAT_arranging(n,l):\n",
    "    G=graphs.CompleteGraph(n+1)\n",
    "    for e in G.edges():\n",
    "        if e[1]-e[0] > n-l:\n",
    "            G.delete_edge(e)\n",
    "            \n",
    "    temp=open(\"temp\",'w')\n",
    "###FALTA INCLUIR O CABEÇALHO    \n",
    "            \n",
    "    index=1\n",
    "    dic={}\n",
    "    inverse={}\n",
    "    for e in G.edges():\n",
    "        dic[edge_to_string(e)]=index\n",
    "        inverse[index]=e\n",
    "        index+=1\n",
    "    for e in G.edges():\n",
    "        for u in G.vertices():\n",
    "            dic[edge_vertex_to_string(e,u)]=index\n",
    "            index+=1\n",
    "    \n",
    "    clause_count=0\n",
    "##### degrees\n",
    "    variables=[]\n",
    "    for e in G.edges_incident(0):\n",
    "        variables.append(dic[edge_to_string(e)])\n",
    "    clause_count+=at_least_k(variables,1,temp)\n",
    "    clause_count+=at_most_k(variables,1,temp)\n",
    "    \n",
    "    for u in G.vertices():\n",
    "        if u!=0:\n",
    "            variables=[]\n",
    "            for e in G.edges_incident(u):\n",
    "                variables.append(dic[edge_to_string(e)])\n",
    "            clause_count+=at_least_k(variables,1,temp)\n",
    "            clause_count+=at_most_k(variables,2,temp)\n",
    "            \n",
    "##### max number of edges\n",
    "#     variables=[]\n",
    "#     for e in G.edges():\n",
    "#         variables.append(dic[edge_to_string(e)])\n",
    "#     clause_count+=at_least_k(variables,n,temp)\n",
    "    \n",
    "##### restrictions\n",
    "    for weight in range(1,n-l+1):\n",
    "        variables=[]\n",
    "        for e in G.edges():\n",
    "            if (e[1]-e[0])==weight:\n",
    "                variables.append(dic[edge_to_string(e)])\n",
    "        if weight>n-2*l:\n",
    "            clause_count+=at_least_k(variables,2,temp)\n",
    "            clause_count+=at_most_k(variables,2,temp)\n",
    "        else:\n",
    "            clause_count+=at_least_k(variables,1,temp)\n",
    "            clause_count+=at_most_k(variables,1,temp)\n",
    "        \n",
    "            \n",
    "##### CONEXIDADE\n",
    "#     for v in G.vertices():\n",
    "#         for e in G.edges():\n",
    "#             clause_count+=less_or_equal(dic[edge_vertex_to_string(e,v)],dic[edge_to_string(e)],temp)\n",
    "        \n",
    "#         variables=[]\n",
    "#         for e in G.edges_incident(0):\n",
    "#             variables.append(dic[edge_vertex_to_string(e,v)])\n",
    "#         clause_count+=at_least_k(variables,1,temp)\n",
    "# #        clause_count+=at_most_k(variables,1,temp)\n",
    "        \n",
    "#         variables=[]\n",
    "#         for e in G.edges_incident(v):\n",
    "#             variables.append(dic[edge_vertex_to_string(e,v)])\n",
    "#         clause_count+=at_least_k(variables,1,temp)\n",
    "#         clause_count+=at_most_k(variables,1,temp)\n",
    "\n",
    "#         for u in G.vertices():\n",
    "#             if u!=0 and u!=v:\n",
    "#                 variables=[]\n",
    "#                 for e in G.edges_incident(u):\n",
    "#                     variables.append(dic[edge_vertex_to_string(e,v)])\n",
    "#                 clause_count+=different_from_1(variables,temp)\n",
    "    \n",
    "    print(\"temp close\")\n",
    "    temp.close()\n",
    "    path=\"AR_\"+str(n)+\"_\"+str(l)    \n",
    "    o=open(path,'w')\n",
    "    o.write(\"p cnf \"+str(len(dic))+\" \"+str(clause_count)+\"\\n\")\n",
    "    temp=open(\"temp\")\n",
    "    for line in temp:\n",
    "        o.write(line)\n",
    "    o.close()\n",
    "    \n",
    "    sol=lingeling(path)\n",
    "    result=[]\n",
    "    for var in sol:\n",
    "        if int(var) > 0:\n",
    "            result.append(inverse[int(var)])\n",
    "    return result\n"
   ]
  },
  {
   "cell_type": "code",
   "execution_count": 44,
   "metadata": {},
   "outputs": [
    {
     "name": "stdout",
     "output_type": "stream",
     "text": [
      "temp close\n"
     ]
    },
    {
     "data": {
      "text/plain": [
       "[(0, 17, None)]"
      ]
     },
     "execution_count": 44,
     "metadata": {},
     "output_type": "execute_result"
    }
   ],
   "source": [
    "SAT_arranging(20,3)\n"
   ]
  },
  {
   "cell_type": "code",
   "execution_count": 37,
   "metadata": {
    "collapsed": true
   },
   "outputs": [
    {
     "ename": "AttributeError",
     "evalue": "'str' object has no attribute 'write'",
     "output_type": "error",
     "traceback": [
      "\u001b[0;31m--------------------------------------------------------------\u001b[0m",
      "\u001b[0;31mAttributeError\u001b[0m               Traceback (most recent call last)",
      "\u001b[0;32m<ipython-input-37-efdcadb536f3>\u001b[0m in \u001b[0;36m<module>\u001b[0;34m\u001b[0m\n\u001b[0;32m----> 1\u001b[0;31m \u001b[0mdefault_arranging\u001b[0m\u001b[0;34m(\u001b[0m\u001b[0mInteger\u001b[0m\u001b[0;34m(\u001b[0m\u001b[0;36m10\u001b[0m\u001b[0;34m)\u001b[0m\u001b[0;34m,\u001b[0m\u001b[0mInteger\u001b[0m\u001b[0;34m(\u001b[0m\u001b[0;36m0\u001b[0m\u001b[0;34m)\u001b[0m\u001b[0;34m)\u001b[0m\u001b[0;34m\u001b[0m\u001b[0;34m\u001b[0m\u001b[0m\n\u001b[0m",
      "\u001b[0;32m<ipython-input-28-345269eb66f1>\u001b[0m in \u001b[0;36mdefault_arranging\u001b[0;34m(n, l)\u001b[0m\n\u001b[1;32m     25\u001b[0m     \u001b[0;32mfor\u001b[0m \u001b[0me\u001b[0m \u001b[0;32min\u001b[0m \u001b[0mG\u001b[0m\u001b[0;34m.\u001b[0m\u001b[0medges_incident\u001b[0m\u001b[0;34m(\u001b[0m\u001b[0mInteger\u001b[0m\u001b[0;34m(\u001b[0m\u001b[0;36m0\u001b[0m\u001b[0;34m)\u001b[0m\u001b[0;34m)\u001b[0m\u001b[0;34m:\u001b[0m\u001b[0;34m\u001b[0m\u001b[0;34m\u001b[0m\u001b[0m\n\u001b[1;32m     26\u001b[0m         \u001b[0mvariables\u001b[0m\u001b[0;34m.\u001b[0m\u001b[0mappend\u001b[0m\u001b[0;34m(\u001b[0m\u001b[0mdic\u001b[0m\u001b[0;34m[\u001b[0m\u001b[0medge_to_string\u001b[0m\u001b[0;34m(\u001b[0m\u001b[0me\u001b[0m\u001b[0;34m)\u001b[0m\u001b[0;34m]\u001b[0m\u001b[0;34m)\u001b[0m\u001b[0;34m\u001b[0m\u001b[0;34m\u001b[0m\u001b[0m\n\u001b[0;32m---> 27\u001b[0;31m     \u001b[0mclause_count\u001b[0m\u001b[0;34m+=\u001b[0m\u001b[0mat_least_k\u001b[0m\u001b[0;34m(\u001b[0m\u001b[0mvariables\u001b[0m\u001b[0;34m,\u001b[0m\u001b[0mInteger\u001b[0m\u001b[0;34m(\u001b[0m\u001b[0;36m1\u001b[0m\u001b[0;34m)\u001b[0m\u001b[0;34m,\u001b[0m\u001b[0mpath\u001b[0m\u001b[0;34m)\u001b[0m\u001b[0;34m\u001b[0m\u001b[0;34m\u001b[0m\u001b[0m\n\u001b[0m\u001b[1;32m     28\u001b[0m     \u001b[0mclause_count\u001b[0m\u001b[0;34m+=\u001b[0m\u001b[0mat_most_k\u001b[0m\u001b[0;34m(\u001b[0m\u001b[0mvariables\u001b[0m\u001b[0;34m,\u001b[0m\u001b[0mInteger\u001b[0m\u001b[0;34m(\u001b[0m\u001b[0;36m1\u001b[0m\u001b[0;34m)\u001b[0m\u001b[0;34m,\u001b[0m\u001b[0mpath\u001b[0m\u001b[0;34m)\u001b[0m\u001b[0;34m\u001b[0m\u001b[0;34m\u001b[0m\u001b[0m\n\u001b[1;32m     29\u001b[0m \u001b[0;34m\u001b[0m\u001b[0m\n",
      "\u001b[0;32m<ipython-input-31-b3a12b3910f8>\u001b[0m in \u001b[0;36mat_least_k\u001b[0;34m(variables, k, file)\u001b[0m\n\u001b[1;32m     14\u001b[0m             \u001b[0mline\u001b[0m\u001b[0;34m+=\u001b[0m\u001b[0;34m\" \"\u001b[0m\u001b[0;34m+\u001b[0m\u001b[0mstr\u001b[0m\u001b[0;34m(\u001b[0m\u001b[0mx\u001b[0m\u001b[0;34m)\u001b[0m\u001b[0;34m\u001b[0m\u001b[0;34m\u001b[0m\u001b[0m\n\u001b[1;32m     15\u001b[0m         \u001b[0mline\u001b[0m\u001b[0;34m+=\u001b[0m\u001b[0;34m\" 0\\n\"\u001b[0m\u001b[0;34m\u001b[0m\u001b[0;34m\u001b[0m\u001b[0m\n\u001b[0;32m---> 16\u001b[0;31m         \u001b[0mfile\u001b[0m\u001b[0;34m.\u001b[0m\u001b[0mwrite\u001b[0m\u001b[0;34m(\u001b[0m\u001b[0mline\u001b[0m\u001b[0;34m)\u001b[0m\u001b[0;34m\u001b[0m\u001b[0;34m\u001b[0m\u001b[0m\n\u001b[0m\u001b[1;32m     17\u001b[0m     \u001b[0;32mreturn\u001b[0m \u001b[0mbinomial\u001b[0m\u001b[0;34m(\u001b[0m\u001b[0mn\u001b[0m\u001b[0;34m,\u001b[0m\u001b[0mn\u001b[0m\u001b[0;34m-\u001b[0m\u001b[0mk\u001b[0m\u001b[0;34m+\u001b[0m\u001b[0mInteger\u001b[0m\u001b[0;34m(\u001b[0m\u001b[0;36m1\u001b[0m\u001b[0;34m)\u001b[0m\u001b[0;34m)\u001b[0m\u001b[0;34m\u001b[0m\u001b[0;34m\u001b[0m\u001b[0m\n\u001b[1;32m     18\u001b[0m \u001b[0;34m\u001b[0m\u001b[0m\n",
      "\u001b[0;31mAttributeError\u001b[0m: 'str' object has no attribute 'write'"
     ]
    }
   ],
   "source": [
    "default_arranging(10,0)"
   ]
  },
  {
   "cell_type": "code",
   "execution_count": null,
   "metadata": {},
   "outputs": [],
   "source": [
    "def default_arranging(n,k=n-l):\n",
    "    p = MixedIntegerLinearProgram(maximization=True,solver=my_solver)\n",
    "\n",
    "    G=graphs.CompleteGraph(n+1)\n",
    "    for e in G.edges():\n",
    "        if e[1]-e[0] > k:\n",
    "            G.delete_edge(e)\n",
    "            \n",
    "    index=1\n",
    "    dic={}\n",
    "    for e in G.edges():\n",
    "        dic[edge_to_string(e)]=index\n",
    "        index+=1\n",
    "    \n",
    "#    variável da aresta: x[e]=1 implica que e está no nosso caminho\n",
    "    x = p.new_variable(binary=True)\n",
    "\n",
    "#    equações dos vértices\n",
    "    for u in G.vertices():\n",
    "        equation=0\n",
    "        for e in G.edges_incident(u):\n",
    "            equation+=x[e]\n",
    "        if u==0:\n",
    "            p.add_constraint(equation==1)\n",
    "        else:\n",
    "            p.add_constraint(equation<=2)\n",
    "    \n",
    "    for i in range(1,k+1):\n",
    "        equation=0\n",
    "        for e in G.edges():\n",
    "            if e[1]-e[0] == i:\n",
    "                equation+=x[e]\n",
    "        if i>=2*k-n+1:\n",
    "            p.add_constraint(equation==2)\n",
    "        else:\n",
    "            p.add_constraint(equation==1)\n",
    "    return p,x,G"
   ]
  },
  {
   "cell_type": "code",
   "execution_count": 7,
   "metadata": {
    "scrolled": true
   },
   "outputs": [
    {
     "name": "stdout",
     "output_type": "stream",
     "text": [
      "[1, 2, 3, 4, 5, 6, 7, 8, 9, 10]\n",
      "[4, 10, 6, 2, 3, 1, 5, 8, 7, 9]\n"
     ]
    }
   ],
   "source": [
    "import random\n",
    "p = list(range(0,11))\n",
    "print(p)\n",
    "random.shuffle(p)\n",
    "print(p)"
   ]
  },
  {
   "cell_type": "code",
   "execution_count": 10,
   "metadata": {
    "scrolled": true
   },
   "outputs": [
    {
     "name": "stdout",
     "output_type": "stream",
     "text": [
      "[6, 4, 4, 1, 2, 4, 3, 1, 2]\n"
     ]
    }
   ],
   "source": [
    "diff=differences(p)\n",
    "print(diff)"
   ]
  },
  {
   "cell_type": "code",
   "execution_count": null,
   "metadata": {},
   "outputs": [],
   "source": [
    "n>1,l<=n/2\n",
    "gostaríamos de encontrar uma permutação p(n,l) \n",
    "tal que o vetor diferença diff(p)\n",
    "1) contenha todos os números entre 1 e n-l pelo menos uma vez;\n",
    "2) e todos os números entre n-2l e n-l precisamente duas vezes\n",
    "3) p começa com 0\n",
    "\n",
    "por exemplo, \n",
    "se n=10 e l=1\n",
    "diff = [1,2,3,4,5,6,7,8,9,9]\n",
    "se n=10 e l=2\n",
    "diff = [1,2,3,4,5,6,7,7,8,8]\n",
    "se n=10 e l=3\n",
    "diff = [1,2,3,4,5,5,6,6,7,7]"
   ]
  },
  {
   "cell_type": "code",
   "execution_count": 29,
   "metadata": {},
   "outputs": [
    {
     "name": "stdout",
     "output_type": "stream",
     "text": [
      "v -1 -2 3 -4 5 -6 7 -8 9 10 -11 -12 -13 -14 -15 0\n",
      "\n"
     ]
    }
   ],
   "source": [
    "o=open(\"PM_IheA@GUAo.output\")\n",
    "for i in o:\n",
    "    print(i)"
   ]
  }
 ],
 "metadata": {
  "kernelspec": {
   "display_name": "SageMath 9.0",
   "language": "sage",
   "name": "sagemath"
  },
  "language_info": {
   "codemirror_mode": {
    "name": "ipython",
    "version": 3
   },
   "file_extension": ".py",
   "mimetype": "text/x-python",
   "name": "python",
   "nbconvert_exporter": "python",
   "pygments_lexer": "ipython3",
   "version": "3.8.5"
  }
 },
 "nbformat": 4,
 "nbformat_minor": 2
}
