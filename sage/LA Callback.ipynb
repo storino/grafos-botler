{
 "cells": [
  {
   "cell_type": "code",
   "execution_count": 2,
   "metadata": {},
   "outputs": [],
   "source": [
    "my_solver = \"GUROBI\"\n",
    "\n",
    "#from sage.numerical.backends.generic_backend import get_solver as get_solver\n",
    "from sage.all import *\n",
    "# !export GRB_LICENSE_FILE=/opt/gurobi912/gurobi.lic\n",
    "# !export GUROBI_HOME=\"/opt/gurobi912/linux64\"\n",
    "# !export PATH=\"$GUROBI_HOME/bin:$PATH\"\n",
    "# !export LD_LIBRARY_PATH=\"${LD_LIBRARY_PATH}:${GUROBI_HOME}/lib\"\n",
    "from sage_numerical_backends_gurobi.gurobi_backend import GurobiBackend\n",
    "from sage.numerical.backends.generic_backend import get_solver\n",
    "#get_solver(solver=GurobiBackend)"
   ]
  },
  {
   "cell_type": "code",
   "execution_count": 3,
   "metadata": {},
   "outputs": [
    {
     "name": "stdout",
     "output_type": "stream",
     "text": [
      "Requirement already satisfied: gurobipy in /home/storino/SageMath/local/lib/python3.9/site-packages (9.5.0)\n",
      "\u001b[33mWARNING: You are using pip version 21.1.2; however, version 22.0.3 is available.\n",
      "You should consider upgrading via the '/home/storino/SageMath/local/bin/python3 -m pip install --upgrade pip' command.\u001b[0m\n"
     ]
    }
   ],
   "source": [
    "!pip install gurobipy"
   ]
  },
  {
   "cell_type": "code",
   "execution_count": 13,
   "metadata": {},
   "outputs": [],
   "source": [
    "def linear_arboricity_test(G):\n",
    "    p = MixedIntegerLinearProgram(maximization=True,solver=my_solver)\n",
    "    \n",
    "#    variável da aresta: x[e,c]=1 implica que a aresta e é colorida pela cor c\n",
    "    x = p.new_variable(binary=True)\n",
    "    \n",
    "    Delta = max(G.degree())\n",
    "    \n",
    "    colors = range(ceil((Delta+1)/2))\n",
    "    \n",
    "#    cada aresta recebe exatamente uma cor\n",
    "    for e in G.edges():\n",
    "        equation=0\n",
    "        for c in colors:\n",
    "            equation+=x[e,c]\n",
    "        p.add_constraint(equation==1)\n",
    "        \n",
    "#    o grau da cor c de cada vertice deve ser menor ou igual a 2\n",
    "    for u in G.vertices():\n",
    "        for c in colors:\n",
    "            equation=0\n",
    "            for e in G.edges_incident(u):\n",
    "                equation+=x[e,c]\n",
    "            p.add_constraint(equation<=2)\n",
    "    \n",
    "    sol=p.solve()\n",
    "    solution=p.get_values(x).items()\n",
    "    R=[]\n",
    "    for s in solution:\n",
    "        var, val = s\n",
    "        e,c = var\n",
    "        if val==1 and c == 0:\n",
    "            R.append(e)\n",
    "    H=Graph(R)\n",
    "    H.show()\n",
    "        \n",
    "    return p,x"
   ]
  },
  {
   "cell_type": "code",
   "execution_count": 5,
   "metadata": {},
   "outputs": [],
   "source": [
    "G = graphs.RandomGNP(10,.5)"
   ]
  },
  {
   "cell_type": "code",
   "execution_count": 6,
   "metadata": {
    "scrolled": false
   },
   "outputs": [
    {
     "data": {
      "image/png": "[encoded data removed]",
      "text/plain": [
       "Graphics object consisting of 11 graphics primitives"
      ]
     },
     "metadata": {},
     "output_type": "display_data"
    },
    {
     "name": "stdout",
     "output_type": "stream",
     "text": [
      "39 13\n"
     ]
    }
   ],
   "source": [
    "p,x=linear_arboricity(G)\n",
    "print(p.number_of_variables(), G.size())"
   ]
  },
  {
   "cell_type": "code",
   "execution_count": 2,
   "metadata": {},
   "outputs": [],
   "source": [
    "#!/bin/env sage\n",
    "# -*- coding: utf-8 -*-\n",
    "import gurobipy as gp\n",
    "from gurobipy import GRB\n",
    "\n",
    "def mycallback(model, where):\n",
    "    \"\"\"\n",
    "    This function checks whether the incumbent solution found by Gurobi has a\n",
    "    cycle or not. If a cycle was found, then this function adds a constraint\n",
    "    that is violated by the current solution.\n",
    "\n",
    "    To be more precise, if a cycle C is found in the current solution,\n",
    "    then this function adds the following constraint\n",
    "\n",
    "      ∑ x_{e, 0} ≤ |E(C)| - 1\n",
    "    e ∈ E(C)\n",
    "    \"\"\"\n",
    "\n",
    "    if where == GRB.Callback.MIPSOL:\n",
    "\n",
    "        vals = model.cbGetSolution(model._x)\n",
    "        \n",
    "        G = Graph()\n",
    "        for (pair, val) in vals.items():\n",
    "            e,c = pair\n",
    "            if val > 0:\n",
    "                u,v,label=e\n",
    "                G.add_edge((u,v,c))\n",
    "        \n",
    "        #G.show(color_by_label=True,layout=\"circular\")\n",
    "        \n",
    "        Delta = max(G.degree())\n",
    "#         colors = range(ceil((Delta+1)/2)+1) \n",
    "        colors = model._colors\n",
    "        \n",
    "        dic = {}\n",
    "        \n",
    "        for c in colors:\n",
    "            dic[c] = []\n",
    "        \n",
    "        for e in G.edges():\n",
    "            u,v,color = e\n",
    "            dic[color].append(e)\n",
    "\n",
    "        cycles = []\n",
    "        for c in colors:\n",
    "            H = Graph(dic[c])\n",
    "            components = H.connected_components()\n",
    "            for comp in components:\n",
    "                comp_graph = H.subgraph(comp)\n",
    "                is_forest, cycle = comp_graph.is_forest(certificate=True)\n",
    "                if not is_forest:\n",
    "                    csize = len(cycle)\n",
    "                    cycle.append(cycle[0])\n",
    "                    cycle_edges=[]\n",
    "                    for i in range(csize):\n",
    "                        u=cycle[i]\n",
    "                        v=cycle[i+1]\n",
    "                        if u < v:\n",
    "                            cycle_edges.append((u,v))\n",
    "                        else:\n",
    "                            cycle_edges.append((v,u))\n",
    "                    cycles.append(cycle_edges)\n",
    "                    \n",
    "        for cycle_edges in cycles:\n",
    "            csize = len(cycle_edges)\n",
    "            for c in colors:\n",
    "                expr = 0\n",
    "                for u,v in cycle_edges:\n",
    "                    expr += model._x[((u,v,None),c)]\n",
    "                model.cbLazy(expr <= csize - 1)\n",
    "            #print(\"restriction added on cycle\",cycle_edges)\n",
    "        \n",
    "class Model:\n",
    "\n",
    "    def __init__(self, G):\n",
    "\n",
    "        self.model = gp.Model(\"linear arboricity\")\n",
    "        self.model.setParam('OutputFlag', 0)\n",
    "        self.G = G\n",
    "        self.Delta = max(G.degree())\n",
    "        self.colors = range(ceil((self.Delta+1)/2))\n",
    "\n",
    "        self._init_x_variables()\n",
    "\n",
    "        # The next lines are defining some variables inside the model object so\n",
    "        # that they can be accessed in the callback (yeah.. I'm breaking\n",
    "        # encapsulation).  That's not very pretty, but it's the way it's\n",
    "        # suggested by the Gurubi Another solution would be to define global\n",
    "        # variables.\n",
    "        \n",
    "        self.model._x = self.x\n",
    "        self.model._G = self.G\n",
    "        self.model._colors = self.colors\n",
    "\n",
    "        self._add_constr_vertex_color_degree()\n",
    "        self._add_constr_edge_color()\n",
    "\n",
    "    def _init_x_variables(self):\n",
    "        \"\"\"\n",
    "              ⎧1,  if e ∈ E(G) is selected\n",
    "        x_e = ⎨\n",
    "              ⎩0,  otherwise\n",
    "        \"\"\"\n",
    "        indices = [(e,c) for e in self.G.edges() for c in self.colors]\n",
    "        #print(indices)\n",
    "        self.x = self.model.addVars(indices, lb=0.0, ub=1.0, vtype=GRB.BINARY, name=\"x\")\n",
    "\n",
    "    def _add_constr_vertex_color_degree(self):\n",
    "        \"\"\"\n",
    "        Every vertex has degree at most 2 in each color, and 0 has degree precisely 1\n",
    "\n",
    "        \"\"\"\n",
    "            \n",
    "        for u in self.G.vertices():\n",
    "            for c in self.colors:\n",
    "                equation=0\n",
    "                for e in self.G.edges_incident(u):\n",
    "                    equation+=self.x[e,c]\n",
    "                self.model.addConstr(equation<=2, name=\"color degree\")\n",
    "\n",
    "    def _add_constr_edge_color(self):\n",
    "        \"\"\"\n",
    "        Some edge have to repeat once, and some edge do not repeat\n",
    "\n",
    "        \"\"\"\n",
    "        \n",
    "        for e in self.G.edges():\n",
    "            equation=0\n",
    "            for c in self.colors:\n",
    "                equation+=self.x[e,c]\n",
    "            self.model.addConstr(equation==1, name=\"each edge\")\n",
    "\n",
    "    def solve(self):\n",
    "\n",
    "        self.model.write(\"modelo_debug.lp\")\n",
    "\n",
    "        # ⚠ if you plan to use lazyConstraints in Gurobi,\n",
    "        #     you must set the following parameter to 1\n",
    "        self.model.Params.lazyConstraints = 1\n",
    "\n",
    "        # to use an lazyConstraint `foo`, you must pass it\n",
    "        # as a parameter in the function optimize\n",
    "        self.model.optimize(mycallback)\n",
    "        \n",
    "    def color(self):\n",
    "        if self.model.status != GRB.OPTIMAL:\n",
    "            print(self.model.status, GRB.OPTIMAL)\n",
    "            print(\"diferente do ótimo\", self.G.graph6_string())\n",
    "            return []\n",
    "\n",
    "        #print(self.x)\n",
    "        for e in self.G.edges():\n",
    "            for c in self.colors:\n",
    "                if self.x[e,c].x >0.1:\n",
    "                    self.G.set_edge_label(e[0],e[1],c)\n",
    "                    \n",
    "    def uncolor(self):\n",
    "        for e in self.G.edges():\n",
    "            self.G.set_edge_label(e[0],e[1],None)\n",
    "                    \n",
    "    def color_graphs(self):\n",
    "        \n",
    "        dic = {}\n",
    "        \n",
    "        for c in self.colors:\n",
    "            dic[c] = []\n",
    "        \n",
    "        for e in self.G.edges():\n",
    "            u,v,color = e\n",
    "            dic[color].append(e)\n",
    "\n",
    "        graphs=[]\n",
    "        for c in self.colors:\n",
    "            H = Graph(dic[c])\n",
    "            graphs.append(H)\n",
    "            \n",
    "        return graphs\n",
    "\n",
    "    def show(self):\n",
    "\n",
    "        self.color()\n",
    "        \n",
    "        self.G.show(color_by_label=True,layout=\"circular\")"
   ]
  },
  {
   "cell_type": "code",
   "execution_count": 63,
   "metadata": {
    "scrolled": false
   },
   "outputs": [
    {
     "name": "stdout",
     "output_type": "stream",
     "text": [
      "The slowest run took 9.72 times longer than the fastest. This could mean that an intermediate result is being cached.\n",
      "147 ms ± 90.5 ms per loop (mean ± std. dev. of 7 runs, 10 loops each)\n"
     ]
    }
   ],
   "source": [
    "%%timeit\n",
    "\n",
    "def test(n,p):\n",
    "    G=graphs.RandomGNP(n,p)\n",
    "    M=Model(G)\n",
    "    M.solve()\n",
    "\n",
    "test(10,.5)"
   ]
  },
  {
   "cell_type": "code",
   "execution_count": 23,
   "metadata": {
    "collapsed": true
   },
   "outputs": [
    {
     "data": {
      "image/png": "[encoded data removed]",
      "text/plain": [
       "Graphics object consisting of 42 graphics primitives"
      ]
     },
     "metadata": {},
     "output_type": "display_data"
    },
    {
     "name": "stdout",
     "output_type": "stream",
     "text": [
      "[[3, 5, 7, 10, 12, 15, 16, 18, 19], [6, 8, 9, 11, 13, 14], [0, 1, 17], [2, 4]] 4\n"
     ]
    },
    {
     "data": {
      "image/png": "[encoded data removed]",
      "text/plain": [
       "Graphics object consisting of 22 graphics primitives"
      ]
     },
     "metadata": {},
     "output_type": "display_data"
    }
   ],
   "source": [
    "G = graphs.RandomGNP(20,.1)\n",
    "G.show()\n",
    "components = G.connected_components()\n",
    "print(components, len(components))\n",
    "H = G.subgraph(components[0])\n",
    "H.show()"
   ]
  },
  {
   "cell_type": "code",
   "execution_count": 5,
   "metadata": {},
   "outputs": [],
   "source": [
    "from sage.graphs.graph_coloring import linear_arboricity\n"
   ]
  },
  {
   "cell_type": "code",
   "execution_count": 13,
   "metadata": {
    "scrolled": true
   },
   "outputs": [
    {
     "name": "stdout",
     "output_type": "stream",
     "text": [
      "12min 2s ± 1min 11s per loop (mean ± std. dev. of 7 runs, 1 loop each)\n"
     ]
    }
   ],
   "source": [
    "%%timeit\n",
    "\n",
    "#nosso LA\n",
    "\n",
    "o = open(\"benchmark3.g6\")\n",
    "\n",
    "for x in o:\n",
    "    G = Graph(x)\n",
    "    M = Model(G)\n",
    "    M.solve()"
   ]
  },
  {
   "cell_type": "code",
   "execution_count": 14,
   "metadata": {},
   "outputs": [
    {
     "name": "stdout",
     "output_type": "stream",
     "text": [
      "9min 27s ± 20.2 s per loop (mean ± std. dev. of 7 runs, 1 loop each)\n"
     ]
    }
   ],
   "source": [
    "%%timeit \n",
    "\n",
    "#LA do sage \n",
    "\n",
    "o = open(\"benchmark3.g6\")\n",
    "\n",
    "for x in o:\n",
    "    G = Graph(x)\n",
    "    linear_arboricity(G, solver=\"GUROBI\")"
   ]
  },
  {
   "cell_type": "code",
   "execution_count": 8,
   "metadata": {},
   "outputs": [
    {
     "ename": "KeyboardInterrupt",
     "evalue": "",
     "output_type": "error",
     "traceback": [
      "\u001b[0;31m---------------------------------------------------------------------------\u001b[0m",
      "\u001b[0;31mMIPSolverException\u001b[0m                        Traceback (most recent call last)",
      "\u001b[0;32m/opt/sage/local/lib/python3.9/site-packages/sage/graphs/graph_coloring.pyx\u001b[0m in \u001b[0;36msage.graphs.graph_coloring.linear_arboricity (build/cythonized/sage/graphs/graph_coloring.cpp:24484)\u001b[0;34m()\u001b[0m\n\u001b[1;32m   1681\u001b[0m     \u001b[0;32mtry\u001b[0m\u001b[0;34m:\u001b[0m\u001b[0;34m\u001b[0m\u001b[0;34m\u001b[0m\u001b[0m\n\u001b[0;32m-> 1682\u001b[0;31m         \u001b[0mp\u001b[0m\u001b[0;34m.\u001b[0m\u001b[0msolve\u001b[0m\u001b[0;34m(\u001b[0m\u001b[0mobjective_only\u001b[0m\u001b[0;34m=\u001b[0m\u001b[0mvalue_only\u001b[0m\u001b[0;34m,\u001b[0m \u001b[0mlog\u001b[0m\u001b[0;34m=\u001b[0m\u001b[0mverbose\u001b[0m\u001b[0;34m)\u001b[0m\u001b[0;34m\u001b[0m\u001b[0;34m\u001b[0m\u001b[0m\n\u001b[0m\u001b[1;32m   1683\u001b[0m         \u001b[0;32mif\u001b[0m \u001b[0mvalue_only\u001b[0m\u001b[0;34m:\u001b[0m\u001b[0;34m\u001b[0m\u001b[0;34m\u001b[0m\u001b[0m\n",
      "\u001b[0;32m/opt/sage/local/lib/python3.9/site-packages/sage/numerical/mip.pyx\u001b[0m in \u001b[0;36msage.numerical.mip.MixedIntegerLinearProgram.solve (build/cythonized/sage/numerical/mip.c:17174)\u001b[0;34m()\u001b[0m\n\u001b[1;32m   2554\u001b[0m         \u001b[0;32mif\u001b[0m \u001b[0mlog\u001b[0m \u001b[0;32mis\u001b[0m \u001b[0;32mnot\u001b[0m \u001b[0;32mNone\u001b[0m\u001b[0;34m:\u001b[0m \u001b[0mself\u001b[0m\u001b[0;34m.\u001b[0m\u001b[0m_backend\u001b[0m\u001b[0;34m.\u001b[0m\u001b[0mset_verbosity\u001b[0m\u001b[0;34m(\u001b[0m\u001b[0mlog\u001b[0m\u001b[0;34m)\u001b[0m\u001b[0;34m\u001b[0m\u001b[0;34m\u001b[0m\u001b[0m\n\u001b[0;32m-> 2555\u001b[0;31m         \u001b[0mself\u001b[0m\u001b[0;34m.\u001b[0m\u001b[0m_backend\u001b[0m\u001b[0;34m.\u001b[0m\u001b[0msolve\u001b[0m\u001b[0;34m(\u001b[0m\u001b[0;34m)\u001b[0m\u001b[0;34m\u001b[0m\u001b[0;34m\u001b[0m\u001b[0m\n\u001b[0m\u001b[1;32m   2556\u001b[0m         \u001b[0;32mreturn\u001b[0m \u001b[0mself\u001b[0m\u001b[0;34m.\u001b[0m\u001b[0m_backend\u001b[0m\u001b[0;34m.\u001b[0m\u001b[0mget_objective_value\u001b[0m\u001b[0;34m(\u001b[0m\u001b[0;34m)\u001b[0m\u001b[0;34m\u001b[0m\u001b[0;34m\u001b[0m\u001b[0m\n",
      "\u001b[0;32m/opt/sage/local/lib/python3.9/site-packages/sage/numerical/backends/glpk_backend.pyx\u001b[0m in \u001b[0;36msage.numerical.backends.glpk_backend.GLPKBackend.solve (build/cythonized/sage/numerical/backends/glpk_backend.c:10223)\u001b[0;34m()\u001b[0m\n\u001b[1;32m   1144\u001b[0m         \u001b[0;32melse\u001b[0m\u001b[0;34m:\u001b[0m\u001b[0;34m\u001b[0m\u001b[0;34m\u001b[0m\u001b[0m\n\u001b[0;32m-> 1145\u001b[0;31m             \u001b[0;32mraise\u001b[0m \u001b[0mMIPSolverException\u001b[0m\u001b[0;34m(\u001b[0m\u001b[0;34m\"GLPK: \"\u001b[0m\u001b[0;34m+\u001b[0m\u001b[0msolution_status_msg\u001b[0m\u001b[0;34m.\u001b[0m\u001b[0mget\u001b[0m\u001b[0;34m(\u001b[0m\u001b[0msolution_status\u001b[0m\u001b[0;34m,\u001b[0m \u001b[0;34m\"unknown error during call to GLPK : \"\u001b[0m\u001b[0;34m+\u001b[0m\u001b[0mstr\u001b[0m\u001b[0;34m(\u001b[0m\u001b[0msolution_status\u001b[0m\u001b[0;34m)\u001b[0m\u001b[0;34m)\u001b[0m\u001b[0;34m)\u001b[0m\u001b[0;34m\u001b[0m\u001b[0;34m\u001b[0m\u001b[0m\n\u001b[0m\u001b[1;32m   1146\u001b[0m         \u001b[0;32mreturn\u001b[0m \u001b[0;36m0\u001b[0m\u001b[0;34m\u001b[0m\u001b[0;34m\u001b[0m\u001b[0m\n",
      "\u001b[0;31mMIPSolverException\u001b[0m: GLPK: Problem has no feasible solution",
      "\nDuring handling of the above exception, another exception occurred:\n",
      "\u001b[0;31mValueError\u001b[0m                                Traceback (most recent call last)",
      "\u001b[0;32m/opt/sage/local/lib/python3.9/site-packages/sage/graphs/graph_coloring.pyx\u001b[0m in \u001b[0;36msage.graphs.graph_coloring.linear_arboricity (build/cythonized/sage/graphs/graph_coloring.cpp:23360)\u001b[0;34m()\u001b[0m\n\u001b[1;32m   1627\u001b[0m         \u001b[0;32mtry\u001b[0m\u001b[0;34m:\u001b[0m\u001b[0;34m\u001b[0m\u001b[0;34m\u001b[0m\u001b[0m\n\u001b[0;32m-> 1628\u001b[0;31m             return linear_arboricity(g,\n\u001b[0m\u001b[1;32m   1629\u001b[0m                                      \u001b[0mplus_one\u001b[0m\u001b[0;34m=\u001b[0m\u001b[0;36m0\u001b[0m\u001b[0;34m,\u001b[0m\u001b[0;34m\u001b[0m\u001b[0;34m\u001b[0m\u001b[0m\n",
      "\u001b[0;32m/opt/sage/local/lib/python3.9/site-packages/sage/graphs/graph_coloring.pyx\u001b[0m in \u001b[0;36msage.graphs.graph_coloring.linear_arboricity (build/cythonized/sage/graphs/graph_coloring.cpp:24607)\u001b[0;34m()\u001b[0m\n\u001b[1;32m   1689\u001b[0m         \u001b[0;32melse\u001b[0m\u001b[0;34m:\u001b[0m\u001b[0;34m\u001b[0m\u001b[0;34m\u001b[0m\u001b[0m\n\u001b[0;32m-> 1690\u001b[0;31m             \u001b[0;32mraise\u001b[0m \u001b[0mValueError\u001b[0m\u001b[0;34m(\u001b[0m\u001b[0;34m\"this graph cannot be colored with the given number of colors\"\u001b[0m\u001b[0;34m)\u001b[0m\u001b[0;34m\u001b[0m\u001b[0;34m\u001b[0m\u001b[0m\n\u001b[0m\u001b[1;32m   1691\u001b[0m \u001b[0;34m\u001b[0m\u001b[0m\n",
      "\u001b[0;31mValueError\u001b[0m: this graph cannot be colored with the given number of colors",
      "\nDuring handling of the above exception, another exception occurred:\n",
      "\u001b[0;31mKeyboardInterrupt\u001b[0m                         Traceback (most recent call last)",
      "\u001b[0;32m<ipython-input-8-fcb5b1e3a493>\u001b[0m in \u001b[0;36m<module>\u001b[0;34m\u001b[0m\n\u001b[0;32m----> 1\u001b[0;31m \u001b[0mget_ipython\u001b[0m\u001b[0;34m(\u001b[0m\u001b[0;34m)\u001b[0m\u001b[0;34m.\u001b[0m\u001b[0mrun_cell_magic\u001b[0m\u001b[0;34m(\u001b[0m\u001b[0;34m'timeit'\u001b[0m\u001b[0;34m,\u001b[0m \u001b[0;34m''\u001b[0m\u001b[0;34m,\u001b[0m \u001b[0;34m'\\n#LA do sage GLPK\\n\\no = open(\"benchmark2.g6\")\\n\\nfor x in o:\\n    G = Graph(x)\\n    linear_arboricity(G, solver=\"GLPK\")\\n'\u001b[0m\u001b[0;34m)\u001b[0m\u001b[0;34m\u001b[0m\u001b[0;34m\u001b[0m\u001b[0m\n\u001b[0m",
      "\u001b[0;32m/opt/sage/local/lib/python3.9/site-packages/IPython/core/interactiveshell.py\u001b[0m in \u001b[0;36mrun_cell_magic\u001b[0;34m(self, magic_name, line, cell)\u001b[0m\n\u001b[1;32m   2369\u001b[0m             \u001b[0;32mwith\u001b[0m \u001b[0mself\u001b[0m\u001b[0;34m.\u001b[0m\u001b[0mbuiltin_trap\u001b[0m\u001b[0;34m:\u001b[0m\u001b[0;34m\u001b[0m\u001b[0;34m\u001b[0m\u001b[0m\n\u001b[1;32m   2370\u001b[0m                 \u001b[0margs\u001b[0m \u001b[0;34m=\u001b[0m \u001b[0;34m(\u001b[0m\u001b[0mmagic_arg_s\u001b[0m\u001b[0;34m,\u001b[0m \u001b[0mcell\u001b[0m\u001b[0;34m)\u001b[0m\u001b[0;34m\u001b[0m\u001b[0;34m\u001b[0m\u001b[0m\n\u001b[0;32m-> 2371\u001b[0;31m                 \u001b[0mresult\u001b[0m \u001b[0;34m=\u001b[0m \u001b[0mfn\u001b[0m\u001b[0;34m(\u001b[0m\u001b[0;34m*\u001b[0m\u001b[0margs\u001b[0m\u001b[0;34m,\u001b[0m \u001b[0;34m**\u001b[0m\u001b[0mkwargs\u001b[0m\u001b[0;34m)\u001b[0m\u001b[0;34m\u001b[0m\u001b[0;34m\u001b[0m\u001b[0m\n\u001b[0m\u001b[1;32m   2372\u001b[0m             \u001b[0;32mreturn\u001b[0m \u001b[0mresult\u001b[0m\u001b[0;34m\u001b[0m\u001b[0;34m\u001b[0m\u001b[0m\n\u001b[1;32m   2373\u001b[0m \u001b[0;34m\u001b[0m\u001b[0m\n",
      "\u001b[0;32m<decorator-gen-60>\u001b[0m in \u001b[0;36mtimeit\u001b[0;34m(self, line, cell, local_ns)\u001b[0m\n",
      "\u001b[0;32m/opt/sage/local/lib/python3.9/site-packages/IPython/core/magic.py\u001b[0m in \u001b[0;36m<lambda>\u001b[0;34m(f, *a, **k)\u001b[0m\n\u001b[1;32m    185\u001b[0m     \u001b[0;31m# but it's overkill for just that one bit of state.\u001b[0m\u001b[0;34m\u001b[0m\u001b[0;34m\u001b[0m\u001b[0;34m\u001b[0m\u001b[0m\n\u001b[1;32m    186\u001b[0m     \u001b[0;32mdef\u001b[0m \u001b[0mmagic_deco\u001b[0m\u001b[0;34m(\u001b[0m\u001b[0marg\u001b[0m\u001b[0;34m)\u001b[0m\u001b[0;34m:\u001b[0m\u001b[0;34m\u001b[0m\u001b[0;34m\u001b[0m\u001b[0m\n\u001b[0;32m--> 187\u001b[0;31m         \u001b[0mcall\u001b[0m \u001b[0;34m=\u001b[0m \u001b[0;32mlambda\u001b[0m \u001b[0mf\u001b[0m\u001b[0;34m,\u001b[0m \u001b[0;34m*\u001b[0m\u001b[0ma\u001b[0m\u001b[0;34m,\u001b[0m \u001b[0;34m**\u001b[0m\u001b[0mk\u001b[0m\u001b[0;34m:\u001b[0m \u001b[0mf\u001b[0m\u001b[0;34m(\u001b[0m\u001b[0;34m*\u001b[0m\u001b[0ma\u001b[0m\u001b[0;34m,\u001b[0m \u001b[0;34m**\u001b[0m\u001b[0mk\u001b[0m\u001b[0;34m)\u001b[0m\u001b[0;34m\u001b[0m\u001b[0;34m\u001b[0m\u001b[0m\n\u001b[0m\u001b[1;32m    188\u001b[0m \u001b[0;34m\u001b[0m\u001b[0m\n\u001b[1;32m    189\u001b[0m         \u001b[0;32mif\u001b[0m \u001b[0mcallable\u001b[0m\u001b[0;34m(\u001b[0m\u001b[0marg\u001b[0m\u001b[0;34m)\u001b[0m\u001b[0;34m:\u001b[0m\u001b[0;34m\u001b[0m\u001b[0;34m\u001b[0m\u001b[0m\n",
      "\u001b[0;32m/opt/sage/local/lib/python3.9/site-packages/IPython/core/magics/execution.py\u001b[0m in \u001b[0;36mtimeit\u001b[0;34m(self, line, cell, local_ns)\u001b[0m\n\u001b[1;32m   1161\u001b[0m             \u001b[0;32mfor\u001b[0m \u001b[0mindex\u001b[0m \u001b[0;32min\u001b[0m \u001b[0mrange\u001b[0m\u001b[0;34m(\u001b[0m\u001b[0;36m0\u001b[0m\u001b[0;34m,\u001b[0m \u001b[0;36m10\u001b[0m\u001b[0;34m)\u001b[0m\u001b[0;34m:\u001b[0m\u001b[0;34m\u001b[0m\u001b[0;34m\u001b[0m\u001b[0m\n\u001b[1;32m   1162\u001b[0m                 \u001b[0mnumber\u001b[0m \u001b[0;34m=\u001b[0m \u001b[0;36m10\u001b[0m \u001b[0;34m**\u001b[0m \u001b[0mindex\u001b[0m\u001b[0;34m\u001b[0m\u001b[0;34m\u001b[0m\u001b[0m\n\u001b[0;32m-> 1163\u001b[0;31m                 \u001b[0mtime_number\u001b[0m \u001b[0;34m=\u001b[0m \u001b[0mtimer\u001b[0m\u001b[0;34m.\u001b[0m\u001b[0mtimeit\u001b[0m\u001b[0;34m(\u001b[0m\u001b[0mnumber\u001b[0m\u001b[0;34m)\u001b[0m\u001b[0;34m\u001b[0m\u001b[0;34m\u001b[0m\u001b[0m\n\u001b[0m\u001b[1;32m   1164\u001b[0m                 \u001b[0;32mif\u001b[0m \u001b[0mtime_number\u001b[0m \u001b[0;34m>=\u001b[0m \u001b[0;36m0.2\u001b[0m\u001b[0;34m:\u001b[0m\u001b[0;34m\u001b[0m\u001b[0;34m\u001b[0m\u001b[0m\n\u001b[1;32m   1165\u001b[0m                     \u001b[0;32mbreak\u001b[0m\u001b[0;34m\u001b[0m\u001b[0;34m\u001b[0m\u001b[0m\n",
      "\u001b[0;32m/opt/sage/local/lib/python3.9/site-packages/IPython/core/magics/execution.py\u001b[0m in \u001b[0;36mtimeit\u001b[0;34m(self, number)\u001b[0m\n\u001b[1;32m    167\u001b[0m         \u001b[0mgc\u001b[0m\u001b[0;34m.\u001b[0m\u001b[0mdisable\u001b[0m\u001b[0;34m(\u001b[0m\u001b[0;34m)\u001b[0m\u001b[0;34m\u001b[0m\u001b[0;34m\u001b[0m\u001b[0m\n\u001b[1;32m    168\u001b[0m         \u001b[0;32mtry\u001b[0m\u001b[0;34m:\u001b[0m\u001b[0;34m\u001b[0m\u001b[0;34m\u001b[0m\u001b[0m\n\u001b[0;32m--> 169\u001b[0;31m             \u001b[0mtiming\u001b[0m \u001b[0;34m=\u001b[0m \u001b[0mself\u001b[0m\u001b[0;34m.\u001b[0m\u001b[0minner\u001b[0m\u001b[0;34m(\u001b[0m\u001b[0mit\u001b[0m\u001b[0;34m,\u001b[0m \u001b[0mself\u001b[0m\u001b[0;34m.\u001b[0m\u001b[0mtimer\u001b[0m\u001b[0;34m)\u001b[0m\u001b[0;34m\u001b[0m\u001b[0;34m\u001b[0m\u001b[0m\n\u001b[0m\u001b[1;32m    170\u001b[0m         \u001b[0;32mfinally\u001b[0m\u001b[0;34m:\u001b[0m\u001b[0;34m\u001b[0m\u001b[0;34m\u001b[0m\u001b[0m\n\u001b[1;32m    171\u001b[0m             \u001b[0;32mif\u001b[0m \u001b[0mgcold\u001b[0m\u001b[0;34m:\u001b[0m\u001b[0;34m\u001b[0m\u001b[0;34m\u001b[0m\u001b[0m\n",
      "\u001b[0;32m<magic-timeit>\u001b[0m in \u001b[0;36minner\u001b[0;34m(_it, _timer)\u001b[0m\n",
      "\u001b[0;32m/opt/sage/local/lib/python3.9/site-packages/sage/graphs/graph_coloring.pyx\u001b[0m in \u001b[0;36msage.graphs.graph_coloring.linear_arboricity (build/cythonized/sage/graphs/graph_coloring.cpp:23477)\u001b[0;34m()\u001b[0m\n\u001b[1;32m   1634\u001b[0m                                      integrality_tolerance=integrality_tolerance)\n\u001b[1;32m   1635\u001b[0m         \u001b[0;32mexcept\u001b[0m \u001b[0mValueError\u001b[0m\u001b[0;34m:\u001b[0m\u001b[0;34m\u001b[0m\u001b[0;34m\u001b[0m\u001b[0m\n\u001b[0;32m-> 1636\u001b[0;31m             return linear_arboricity(g,\n\u001b[0m\u001b[1;32m   1637\u001b[0m                                      \u001b[0mplus_one\u001b[0m\u001b[0;34m=\u001b[0m\u001b[0;36m1\u001b[0m\u001b[0;34m,\u001b[0m\u001b[0;34m\u001b[0m\u001b[0;34m\u001b[0m\u001b[0m\n\u001b[1;32m   1638\u001b[0m                                      \u001b[0mvalue_only\u001b[0m\u001b[0;34m=\u001b[0m\u001b[0mvalue_only\u001b[0m\u001b[0;34m,\u001b[0m\u001b[0;34m\u001b[0m\u001b[0;34m\u001b[0m\u001b[0m\n",
      "\u001b[0;32m/opt/sage/local/lib/python3.9/site-packages/sage/graphs/graph_coloring.pyx\u001b[0m in \u001b[0;36msage.graphs.graph_coloring.linear_arboricity (build/cythonized/sage/graphs/graph_coloring.cpp:24484)\u001b[0;34m()\u001b[0m\n\u001b[1;32m   1680\u001b[0m \u001b[0;34m\u001b[0m\u001b[0m\n\u001b[1;32m   1681\u001b[0m     \u001b[0;32mtry\u001b[0m\u001b[0;34m:\u001b[0m\u001b[0;34m\u001b[0m\u001b[0;34m\u001b[0m\u001b[0m\n\u001b[0;32m-> 1682\u001b[0;31m         \u001b[0mp\u001b[0m\u001b[0;34m.\u001b[0m\u001b[0msolve\u001b[0m\u001b[0;34m(\u001b[0m\u001b[0mobjective_only\u001b[0m\u001b[0;34m=\u001b[0m\u001b[0mvalue_only\u001b[0m\u001b[0;34m,\u001b[0m \u001b[0mlog\u001b[0m\u001b[0;34m=\u001b[0m\u001b[0mverbose\u001b[0m\u001b[0;34m)\u001b[0m\u001b[0;34m\u001b[0m\u001b[0;34m\u001b[0m\u001b[0m\n\u001b[0m\u001b[1;32m   1683\u001b[0m         \u001b[0;32mif\u001b[0m \u001b[0mvalue_only\u001b[0m\u001b[0;34m:\u001b[0m\u001b[0;34m\u001b[0m\u001b[0;34m\u001b[0m\u001b[0m\n\u001b[1;32m   1684\u001b[0m             \u001b[0;32mreturn\u001b[0m \u001b[0mk\u001b[0m\u001b[0;34m\u001b[0m\u001b[0;34m\u001b[0m\u001b[0m\n",
      "\u001b[0;32m/opt/sage/local/lib/python3.9/site-packages/sage/numerical/mip.pyx\u001b[0m in \u001b[0;36msage.numerical.mip.MixedIntegerLinearProgram.solve (build/cythonized/sage/numerical/mip.c:17174)\u001b[0;34m()\u001b[0m\n\u001b[1;32m   2553\u001b[0m         \"\"\"\n\u001b[1;32m   2554\u001b[0m         \u001b[0;32mif\u001b[0m \u001b[0mlog\u001b[0m \u001b[0;32mis\u001b[0m \u001b[0;32mnot\u001b[0m \u001b[0;32mNone\u001b[0m\u001b[0;34m:\u001b[0m \u001b[0mself\u001b[0m\u001b[0;34m.\u001b[0m\u001b[0m_backend\u001b[0m\u001b[0;34m.\u001b[0m\u001b[0mset_verbosity\u001b[0m\u001b[0;34m(\u001b[0m\u001b[0mlog\u001b[0m\u001b[0;34m)\u001b[0m\u001b[0;34m\u001b[0m\u001b[0;34m\u001b[0m\u001b[0m\n\u001b[0;32m-> 2555\u001b[0;31m         \u001b[0mself\u001b[0m\u001b[0;34m.\u001b[0m\u001b[0m_backend\u001b[0m\u001b[0;34m.\u001b[0m\u001b[0msolve\u001b[0m\u001b[0;34m(\u001b[0m\u001b[0;34m)\u001b[0m\u001b[0;34m\u001b[0m\u001b[0;34m\u001b[0m\u001b[0m\n\u001b[0m\u001b[1;32m   2556\u001b[0m         \u001b[0;32mreturn\u001b[0m \u001b[0mself\u001b[0m\u001b[0;34m.\u001b[0m\u001b[0m_backend\u001b[0m\u001b[0;34m.\u001b[0m\u001b[0mget_objective_value\u001b[0m\u001b[0;34m(\u001b[0m\u001b[0;34m)\u001b[0m\u001b[0;34m\u001b[0m\u001b[0;34m\u001b[0m\u001b[0m\n\u001b[1;32m   2557\u001b[0m \u001b[0;34m\u001b[0m\u001b[0m\n",
      "\u001b[0;32m/opt/sage/local/lib/python3.9/site-packages/sage/numerical/backends/glpk_backend.pyx\u001b[0m in \u001b[0;36msage.numerical.backends.glpk_backend.GLPKBackend.solve (build/cythonized/sage/numerical/backends/glpk_backend.c:9995)\u001b[0;34m()\u001b[0m\n\u001b[1;32m   1129\u001b[0m         if ((self.simplex_or_intopt == glp_intopt_only)\n\u001b[1;32m   1130\u001b[0m             or (self.simplex_or_intopt == glp_simplex_then_intopt) and (solution_status != GLP_UNDEF) and (solution_status != GLP_NOFEAS)):\n\u001b[0;32m-> 1131\u001b[0;31m             \u001b[0msig_on\u001b[0m\u001b[0;34m(\u001b[0m\u001b[0;34m)\u001b[0m\u001b[0;34m\u001b[0m\u001b[0;34m\u001b[0m\u001b[0m\n\u001b[0m\u001b[1;32m   1132\u001b[0m             \u001b[0msolve_status\u001b[0m \u001b[0;34m=\u001b[0m \u001b[0mglp_intopt\u001b[0m\u001b[0;34m(\u001b[0m\u001b[0mself\u001b[0m\u001b[0;34m.\u001b[0m\u001b[0mlp\u001b[0m\u001b[0;34m,\u001b[0m \u001b[0mself\u001b[0m\u001b[0;34m.\u001b[0m\u001b[0miocp\u001b[0m\u001b[0;34m)\u001b[0m\u001b[0;34m\u001b[0m\u001b[0;34m\u001b[0m\u001b[0m\n\u001b[1;32m   1133\u001b[0m             \u001b[0msolution_status\u001b[0m \u001b[0;34m=\u001b[0m \u001b[0mglp_mip_status\u001b[0m\u001b[0;34m(\u001b[0m\u001b[0mself\u001b[0m\u001b[0;34m.\u001b[0m\u001b[0mlp\u001b[0m\u001b[0;34m)\u001b[0m\u001b[0;34m\u001b[0m\u001b[0;34m\u001b[0m\u001b[0m\n",
      "\u001b[0;31mKeyboardInterrupt\u001b[0m: "
     ]
    }
   ],
   "source": [
    "%%timeit \n",
    "\n",
    "#LA do sage GLPK\n",
    "\n",
    "o = open(\"benchmark2.g6\")\n",
    "\n",
    "for x in o:\n",
    "    G = Graph(x)\n",
    "    linear_arboricity(G, solver=\"GLPK\")"
   ]
  },
  {
   "cell_type": "code",
   "execution_count": 82,
   "metadata": {},
   "outputs": [],
   "source": [
    "#benchmark\n",
    "\n",
    "o = open(\"benchmark.g6\", 'w')\n",
    "\n",
    "for n in [8,10,12,14]:\n",
    "    for r in range(6,n-1):\n",
    "        for i in range(5):\n",
    "            G = graphs.RandomRegular(r,n)\n",
    "            o.write(G.graph6_string()+\"\\n\")\n",
    "o.close()"
   ]
  },
  {
   "cell_type": "code",
   "execution_count": 83,
   "metadata": {},
   "outputs": [],
   "source": [
    "#benchmark2\n",
    "\n",
    "o = open(\"benchmark2.g6\", 'w')\n",
    "\n",
    "for n in [14,16,18,20]:\n",
    "    for r in range(6,n-1):\n",
    "        for i in range(5):\n",
    "            G = graphs.RandomRegular(r,n)\n",
    "            o.write(G.graph6_string()+\"\\n\")\n",
    "o.close()"
   ]
  },
  {
   "cell_type": "code",
   "execution_count": 61,
   "metadata": {},
   "outputs": [
    {
     "name": "stdout",
     "output_type": "stream",
     "text": [
      "G~l}~[\n",
      "\n",
      "G~^m|{\n",
      "\n",
      "G^vn~w\n",
      "\n",
      "G~zZ|{\n",
      "\n",
      "G|~uz{\n",
      "\n",
      "I^LvU]\\rg\n",
      "\n",
      "IVZv]o^yW\n",
      "\n",
      "Iy~s[lrMw\n",
      "\n",
      "Irupm^yZo\n",
      "\n",
      "Ird~UnhNg\n",
      "\n",
      "Iv}ni|vzW\n",
      "\n",
      "IZr~uy~}o\n",
      "\n",
      "IR~~mnj}W\n",
      "\n",
      "I]z~np^mw\n",
      "\n",
      "I~nZ\\vN\\w\n",
      "\n",
      "Iny~~~|~g\n",
      "\n",
      "I~^m|~~~o\n",
      "\n",
      "I]~~n~}}w\n",
      "\n",
      "I~^}|~n}w\n",
      "\n",
      "Iz~u~~}nw\n",
      "\n",
      "KxO]kXuF\\u\\I\n",
      "\n",
      "KbMC~Wk^NFYs\n",
      "\n",
      "KkbZtDwMoz{k\n",
      "\n",
      "KFw]JqdnbFWt\n",
      "\n",
      "KlZM\\_tI{{IN\n",
      "\n",
      "KZvPt}f{I\\xr\n",
      "\n",
      "KlJI~w{tlv\\U\n",
      "\n",
      "KMbvX{|}FTzM\n",
      "\n",
      "K`{vjZM{]zUy\n",
      "\n",
      "K[wQ||m~Mj]p\n",
      "\n",
      "KzYf}y}nqzzl\n",
      "\n",
      "K|u^mTv~P^nl\n",
      "\n",
      "K^i]vNlV~{n{\n",
      "\n",
      "Krjzmv\\]|^^R\n",
      "\n",
      "Kfx~Iyzy~nVy\n",
      "\n",
      "Knm}^t~|~}\\v\n",
      "\n",
      "K~}}X~vx}vnz\n",
      "\n",
      "Kv~Zv~fZ~lvv\n",
      "\n",
      "Km^~~rzztzu~\n",
      "\n",
      "K}j}p~~^v}~]\n",
      "\n",
      "K~z~u}~~z~~|\n",
      "\n",
      "K~]~~^~v~z~z\n",
      "\n",
      "K~z}|~z~~~N~\n",
      "\n",
      "Kv|~~^~|~z~z\n",
      "\n",
      "K^v~~^|~~~^^\n",
      "\n",
      "MLAJ\\PrnCWYhOuUI_\n",
      "\n",
      "MLOA]YUa^gUiYiNc?\n",
      "\n",
      "MwoHZhScLcjqE]hw?\n",
      "\n",
      "MeiarWtcaPgrjcKZ?\n",
      "\n",
      "M`hZf_q@}ObdotjI?\n",
      "\n",
      "MZa@hyjv]{HsuBXp_\n",
      "\n",
      "MQlJtpsxmixcHxcr_\n",
      "\n",
      "M|NeTWFUIsBvc}X]?\n",
      "\n",
      "MY]{AsZRuLu`wlkx?\n",
      "\n",
      "MYa^DiK}I}E|UwYk_\n",
      "\n",
      "MvG^Wyjrmb{y^Y^R?\n",
      "\n",
      "Mupr]wv`htvJZ{}F?\n",
      "\n",
      "MjMbtL}zSyr{uRpm_\n",
      "\n",
      "M^OZ^Vk}Kyqt\\rb|?\n",
      "\n",
      "MjFIs}~jR[ukyf{f?\n",
      "\n",
      "M[E~~Jhv^v^IV|^j?\n",
      "\n",
      "MzlZivNutxs~h}~P_\n",
      "\n",
      "MLb}rrhl~vn{~`r{_\n",
      "\n",
      "M]zZjnmE|y}ym]qn_\n",
      "\n",
      "Myulpz}zRmj}s}lr_\n",
      "\n",
      "M~|~P^rNu~zmd~x|_\n",
      "\n",
      "Mvv~nVlhxv~r]}V^_\n",
      "\n",
      "Ml~~VrNm~mUv\\~V~?\n",
      "\n",
      "M}vsjsnzzv~unz~y?\n",
      "\n",
      "M^^}]pv}~f^xj}b~_\n",
      "\n",
      "M}vvr~~^n}t~~\\nv_\n",
      "\n",
      "M^~ny~|x~vzzn^||_\n",
      "\n",
      "Mf}~n~|]~||z|nz|_\n",
      "\n",
      "M~mz^^vv~~^V^|vv_\n",
      "\n",
      "M}}~||~^^Nzn~f{~_\n",
      "\n",
      "M~~~v~nn~|n~|~v~_\n",
      "\n",
      "M~|~~~nv~z}~~nn~_\n",
      "\n",
      "Mn~v~~}n~~~}~^z~_\n",
      "\n",
      "M~|~~}~z~|}~v~~^_\n",
      "\n",
      "M~u~~~}~Z~~~~}z~_\n",
      "\n"
     ]
    }
   ],
   "source": [
    "o = open(\"benchmark.g6\")\n",
    "for x in o:\n",
    "    print(x)"
   ]
  },
  {
   "cell_type": "code",
   "execution_count": 9,
   "metadata": {},
   "outputs": [],
   "source": [
    "#benchmark3\n",
    "\n",
    "o = open(\"benchmark3.g6\", 'w')\n",
    "\n",
    "for n in [22,24,26,28]:\n",
    "    for r in range(6,n-1):\n",
    "        for i in range(5):\n",
    "            G = graphs.RandomRegular(r,n)\n",
    "            o.write(G.graph6_string()+\"\\n\")\n",
    "o.close()"
   ]
  }
 ],
 "metadata": {
  "kernelspec": {
   "display_name": "SageMath 9.4",
   "language": "sage",
   "name": "sagemath"
  },
  "language_info": {
   "codemirror_mode": {
    "name": "ipython",
    "version": 3
   },
   "file_extension": ".py",
   "mimetype": "text/x-python",
   "name": "python",
   "nbconvert_exporter": "python",
   "pygments_lexer": "ipython3",
   "version": "3.9.5"
  }
 },
 "nbformat": 4,
 "nbformat_minor": 4
}
